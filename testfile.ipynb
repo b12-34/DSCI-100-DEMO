{
 "cells": [
  {
   "cell_type": "code",
   "execution_count": 1,
   "id": "9be3dd07-a6ac-4159-807f-8505d969ac00",
   "metadata": {},
   "outputs": [],
   "source": [
    "# Sample code"
   ]
  },
  {
   "cell_type": "code",
   "execution_count": 2,
   "id": "c9b706d6-9487-4946-b137-a5feb77e38a6",
   "metadata": {},
   "outputs": [],
   "source": [
    "a <- 3 + 4"
   ]
  },
  {
   "cell_type": "code",
   "execution_count": 3,
   "id": "c1b8f603-c82a-4f61-992f-955bf400f7e2",
   "metadata": {},
   "outputs": [
    {
     "data": {
      "text/html": [
       "7"
      ],
      "text/latex": [
       "7"
      ],
      "text/markdown": [
       "7"
      ],
      "text/plain": [
       "[1] 7"
      ]
     },
     "metadata": {},
     "output_type": "display_data"
    }
   ],
   "source": [
    "a "
   ]
  },
  {
   "cell_type": "code",
   "execution_count": null,
   "id": "46af24ea-b3a2-4289-bcc0-3035705a77a0",
   "metadata": {},
   "outputs": [],
   "source": []
  }
 ],
 "metadata": {
  "kernelspec": {
   "display_name": "R",
   "language": "R",
   "name": "ir"
  },
  "language_info": {
   "codemirror_mode": "r",
   "file_extension": ".r",
   "mimetype": "text/x-r-source",
   "name": "R",
   "pygments_lexer": "r",
   "version": "4.3.3"
  }
 },
 "nbformat": 4,
 "nbformat_minor": 5
}
